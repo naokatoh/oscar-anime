{
 "cells": [
  {
   "cell_type": "code",
   "execution_count": 1,
   "id": "dcc82c4d",
   "metadata": {},
   "outputs": [],
   "source": [
    "import pandas as pd\n",
    "pd.set_option(\"display.max_columns\", None)\n",
    "\n",
    "from bs4 import BeautifulSoup\n",
    "import requests\n",
    "\n",
    "import time\n",
    "import re\n",
    "\n",
    "from selenium import webdriver\n",
    "from selenium.webdriver.common.by import By\n",
    "from selenium.webdriver.support.ui import WebDriverWait\n",
    "from selenium.webdriver.support import expected_conditions as EC\n",
    "from selenium.webdriver.support.ui import Select\n",
    "\n",
    "from webdriver_manager.chrome import ChromeDriverManager\n"
   ]
  },
  {
   "cell_type": "code",
   "execution_count": 2,
   "id": "9f5fb9ac",
   "metadata": {},
   "outputs": [],
   "source": [
    "from html.parser import HTMLParser\n",
    "import requests\n",
    "from bs4 import BeautifulSoup\n",
    "import re\n",
    "import pandas as pd\n",
    "import matplotlib.pyplot as plt\n",
    "import numpy as np"
   ]
  },
  {
   "cell_type": "code",
   "execution_count": 3,
   "id": "38c2099e",
   "metadata": {
    "scrolled": true
   },
   "outputs": [
    {
     "name": "stderr",
     "output_type": "stream",
     "text": [
      "\n",
      "\n",
      "====== WebDriver manager ======\n",
      "Current google-chrome version is 99.0.4844\n",
      "Get LATEST chromedriver version for 99.0.4844 google-chrome\n",
      "Driver [C:\\Users\\nao22\\.wdm\\drivers\\chromedriver\\win32\\99.0.4844.51\\chromedriver.exe] found in cache\n",
      "C:\\Users\\nao22\\AppData\\Local\\Temp/ipykernel_71780/4290991195.py:2: DeprecationWarning: executable_path has been deprecated, please pass in a Service object\n",
      "  driver = webdriver.Chrome(ChromeDriverManager().install())\n"
     ]
    }
   ],
   "source": [
    "# Launch a new Chrome, install the appropriate ChromeDriver if necessary\n",
    "driver = webdriver.Chrome(ChromeDriverManager().install())"
   ]
  },
  {
   "cell_type": "code",
   "execution_count": 4,
   "id": "168da3f5",
   "metadata": {},
   "outputs": [],
   "source": [
    "driver.get(\"https://awardsdatabase.oscars.org/search/\")"
   ]
  },
  {
   "cell_type": "markdown",
   "id": "ec6e29f8",
   "metadata": {},
   "source": [
    "# From THE OFFICIAL ACADEMY AWARDS® DATABASE, create a list of all nominated movies for Academy Award for Best Animated Feature\n"
   ]
  },
  {
   "cell_type": "code",
   "execution_count": 5,
   "id": "f701e889",
   "metadata": {},
   "outputs": [],
   "source": [
    "\n",
    "driver.find_element(By.XPATH, '/html/body/div[1]/div/div[2]/div/div/div[2]/div/form/div[2]/div/div[1]/div/div[1]/div[2]/div/span/div').click()"
   ]
  },
  {
   "cell_type": "code",
   "execution_count": 6,
   "id": "71b82451",
   "metadata": {},
   "outputs": [],
   "source": [
    "# select Animated Feature Film\n",
    "\n",
    "driver.find_element(By.XPATH, '//*[@id=\"basicsearch\"]/div/div[1]/div[2]/div/span/div/ul/li[9]/a/label').click()"
   ]
  },
  {
   "cell_type": "code",
   "execution_count": 7,
   "id": "8ab168af",
   "metadata": {},
   "outputs": [],
   "source": [
    "driver.find_element(By.XPATH, '//*[@id=\"btnbasicsearch\"]').click()"
   ]
  },
  {
   "cell_type": "code",
   "execution_count": 8,
   "id": "6b32e67d",
   "metadata": {},
   "outputs": [
    {
     "name": "stderr",
     "output_type": "stream",
     "text": [
      "C:\\Users\\nao22\\AppData\\Local\\Temp/ipykernel_71780/3417680817.py:3: DeprecationWarning: find_elements_by_* commands are deprecated. Please use find_elements() instead\n",
      "  for title in driver.find_elements_by_class_name(\"awards-result-film-title\"):\n"
     ]
    },
    {
     "data": {
      "text/plain": [
       "['Jimmy Neutron: Boy Genius',\n",
       " 'Monsters, Inc.',\n",
       " 'Shrek',\n",
       " 'Ice Age',\n",
       " 'Lilo & Stitch',\n",
       " 'Spirit: Stallion of the Cimarron',\n",
       " 'Spirited Away',\n",
       " 'Treasure Planet',\n",
       " 'Brother Bear',\n",
       " 'Finding Nemo',\n",
       " 'The Triplets of Belleville',\n",
       " 'The Incredibles',\n",
       " 'Shark Tale',\n",
       " 'Shrek 2',\n",
       " \"Howl's Moving Castle\",\n",
       " \"Tim Burton's Corpse Bride\",\n",
       " 'Wallace & Gromit in The Curse of the Were-Rabbit',\n",
       " 'Cars',\n",
       " 'Happy Feet',\n",
       " 'Monster House',\n",
       " 'Persepolis',\n",
       " 'Ratatouille',\n",
       " \"Surf's Up\",\n",
       " 'Bolt',\n",
       " 'Kung Fu Panda',\n",
       " 'WALL-E',\n",
       " 'Coraline',\n",
       " 'Fantastic Mr. Fox',\n",
       " 'The Princess and the Frog',\n",
       " 'The Secret of Kells',\n",
       " 'Up',\n",
       " 'How to Train Your Dragon',\n",
       " 'The Illusionist',\n",
       " 'Toy Story 3',\n",
       " 'A Cat in Paris',\n",
       " 'Chico & Rita',\n",
       " 'Kung Fu Panda 2',\n",
       " 'Puss in Boots',\n",
       " 'Rango',\n",
       " 'Brave',\n",
       " 'Frankenweenie',\n",
       " 'ParaNorman',\n",
       " 'The Pirates! Band of Misfits',\n",
       " 'Wreck-It Ralph',\n",
       " 'The Croods',\n",
       " 'Despicable Me 2',\n",
       " 'Ernest & Celestine',\n",
       " 'Frozen',\n",
       " 'The Wind Rises',\n",
       " 'Big Hero 6',\n",
       " 'The Boxtrolls',\n",
       " 'How to Train Your Dragon 2',\n",
       " 'Song of the Sea',\n",
       " 'The Tale of the Princess Kaguya',\n",
       " 'Anomalisa',\n",
       " 'Boy and the World',\n",
       " 'Inside Out',\n",
       " 'Shaun the Sheep Movie',\n",
       " 'When Marnie Was There',\n",
       " 'Kubo and the Two Strings',\n",
       " 'Moana',\n",
       " 'My Life as a Zucchini',\n",
       " 'The Red Turtle',\n",
       " 'Zootopia',\n",
       " 'The Boss Baby',\n",
       " 'The Breadwinner',\n",
       " 'Coco',\n",
       " 'Ferdinand',\n",
       " 'Loving Vincent',\n",
       " 'Incredibles 2',\n",
       " 'Isle of Dogs',\n",
       " 'Mirai',\n",
       " 'Ralph Breaks the Internet',\n",
       " 'Spider-Man: Into the Spider-Verse',\n",
       " 'How to Train Your Dragon: The Hidden World',\n",
       " 'I Lost My Body',\n",
       " 'Klaus',\n",
       " 'Missing Link',\n",
       " 'Toy Story 4',\n",
       " 'Onward',\n",
       " 'Over the Moon',\n",
       " 'A Shaun the Sheep Movie: Farmageddon',\n",
       " 'Soul',\n",
       " 'Wolfwalkers']"
      ]
     },
     "execution_count": 8,
     "metadata": {},
     "output_type": "execute_result"
    }
   ],
   "source": [
    "title_list =[]\n",
    "\n",
    "for title in driver.find_elements_by_class_name(\"awards-result-film-title\"):\n",
    "    title_list.append(title.text)\n",
    "\n",
    "title_list\n",
    "\n"
   ]
  },
  {
   "cell_type": "code",
   "execution_count": 9,
   "id": "2bd6bc6b",
   "metadata": {},
   "outputs": [
    {
     "data": {
      "text/plain": [
       "84"
      ]
     },
     "execution_count": 9,
     "metadata": {},
     "output_type": "execute_result"
    }
   ],
   "source": [
    "len(title_list)\n"
   ]
  },
  {
   "cell_type": "markdown",
   "id": "b8c1c319",
   "metadata": {},
   "source": [
    "## There are 89 movies nominated from 2001 to 2021"
   ]
  },
  {
   "cell_type": "markdown",
   "id": "19b382c7",
   "metadata": {},
   "source": [
    "# scrape Wikipedia page's table \n",
    "https://en.wikipedia.org/wiki/Academy_Award_for_Best_Animated_Feature"
   ]
  },
  {
   "cell_type": "code",
   "execution_count": 10,
   "id": "879477ed",
   "metadata": {},
   "outputs": [],
   "source": [
    "#check the page status\n",
    "# wikiurl=\"https://en.wikipedia.org/wiki/Academy_Award_for_Best_Animated_Feature\"\n",
    "# table_class=\"wikitable sortable jquery-tablesorter\"\n",
    "# response=requests.get(wikiurl)\n",
    "# print(response.status_code)"
   ]
  },
  {
   "cell_type": "code",
   "execution_count": 11,
   "id": "95fedd69",
   "metadata": {},
   "outputs": [
    {
     "data": {
      "text/plain": [
       "4"
      ]
     },
     "execution_count": 11,
     "metadata": {},
     "output_type": "execute_result"
    }
   ],
   "source": [
    "res = requests.get(\"https://en.wikipedia.org/wiki/Academy_Award_for_Best_Animated_Feature\")\n",
    "soup = BeautifulSoup(res.content, \"html.parser\")\n",
    "tables = soup.find_all(\"table\", class_=\"wikitable\")\n",
    "len(tables)"
   ]
  },
  {
   "cell_type": "code",
   "execution_count": 12,
   "id": "c33a70d3",
   "metadata": {
    "scrolled": true
   },
   "outputs": [
    {
     "data": {
      "text/html": [
       "<div>\n",
       "<style scoped>\n",
       "    .dataframe tbody tr th:only-of-type {\n",
       "        vertical-align: middle;\n",
       "    }\n",
       "\n",
       "    .dataframe tbody tr th {\n",
       "        vertical-align: top;\n",
       "    }\n",
       "\n",
       "    .dataframe thead th {\n",
       "        text-align: right;\n",
       "    }\n",
       "</style>\n",
       "<table border=\"1\" class=\"dataframe\">\n",
       "  <thead>\n",
       "    <tr style=\"text-align: right;\">\n",
       "      <th></th>\n",
       "      <th>Year</th>\n",
       "      <th>Film</th>\n",
       "      <th>Nominees</th>\n",
       "    </tr>\n",
       "  </thead>\n",
       "  <tbody>\n",
       "    <tr>\n",
       "      <th>0</th>\n",
       "      <td>2001(74th)[13]</td>\n",
       "      <td>NaN</td>\n",
       "      <td>NaN</td>\n",
       "    </tr>\n",
       "    <tr>\n",
       "      <th>1</th>\n",
       "      <td>2001(74th)[13]</td>\n",
       "      <td>Shrek</td>\n",
       "      <td>Aron Warner</td>\n",
       "    </tr>\n",
       "    <tr>\n",
       "      <th>2</th>\n",
       "      <td>2001(74th)[13]</td>\n",
       "      <td>Jimmy Neutron: Boy Genius</td>\n",
       "      <td>Steve Oedekerk &amp; John A. Davis</td>\n",
       "    </tr>\n",
       "    <tr>\n",
       "      <th>3</th>\n",
       "      <td>2001(74th)[13]</td>\n",
       "      <td>Monsters, Inc.</td>\n",
       "      <td>Pete Docter &amp; John Lasseter</td>\n",
       "    </tr>\n",
       "    <tr>\n",
       "      <th>4</th>\n",
       "      <td>2002(75th)[21]</td>\n",
       "      <td>NaN</td>\n",
       "      <td>NaN</td>\n",
       "    </tr>\n",
       "    <tr>\n",
       "      <th>...</th>\n",
       "      <td>...</td>\n",
       "      <td>...</td>\n",
       "      <td>...</td>\n",
       "    </tr>\n",
       "    <tr>\n",
       "      <th>7</th>\n",
       "      <td>2021(94th)[40]</td>\n",
       "      <td>Encanto</td>\n",
       "      <td>Jared Bush, Byron Howard, Yvett Merino &amp; Clark...</td>\n",
       "    </tr>\n",
       "    <tr>\n",
       "      <th>8</th>\n",
       "      <td>2021(94th)[40]</td>\n",
       "      <td>Flee</td>\n",
       "      <td>Jonas Poher Rasmussen, Monica Hellström, Signe...</td>\n",
       "    </tr>\n",
       "    <tr>\n",
       "      <th>9</th>\n",
       "      <td>2021(94th)[40]</td>\n",
       "      <td>Luca</td>\n",
       "      <td>Enrico Casarosa &amp; Andrea Warren</td>\n",
       "    </tr>\n",
       "    <tr>\n",
       "      <th>10</th>\n",
       "      <td>2021(94th)[40]</td>\n",
       "      <td>The Mitchells vs. the Machines</td>\n",
       "      <td>Mike Rianda, Phil Lord, Christopher Miller &amp; K...</td>\n",
       "    </tr>\n",
       "    <tr>\n",
       "      <th>11</th>\n",
       "      <td>2021(94th)[40]</td>\n",
       "      <td>Raya and the Last Dragon</td>\n",
       "      <td>Don Hall, Carlos López Estrada, Osnat Shurer &amp;...</td>\n",
       "    </tr>\n",
       "  </tbody>\n",
       "</table>\n",
       "<p>110 rows × 3 columns</p>\n",
       "</div>"
      ],
      "text/plain": [
       "              Year                            Film  \\\n",
       "0   2001(74th)[13]                             NaN   \n",
       "1   2001(74th)[13]                           Shrek   \n",
       "2   2001(74th)[13]       Jimmy Neutron: Boy Genius   \n",
       "3   2001(74th)[13]                  Monsters, Inc.   \n",
       "4   2002(75th)[21]                             NaN   \n",
       "..             ...                             ...   \n",
       "7   2021(94th)[40]                         Encanto   \n",
       "8   2021(94th)[40]                            Flee   \n",
       "9   2021(94th)[40]                            Luca   \n",
       "10  2021(94th)[40]  The Mitchells vs. the Machines   \n",
       "11  2021(94th)[40]        Raya and the Last Dragon   \n",
       "\n",
       "                                             Nominees  \n",
       "0                                                 NaN  \n",
       "1                                         Aron Warner  \n",
       "2                      Steve Oedekerk & John A. Davis  \n",
       "3                         Pete Docter & John Lasseter  \n",
       "4                                                 NaN  \n",
       "..                                                ...  \n",
       "7   Jared Bush, Byron Howard, Yvett Merino & Clark...  \n",
       "8   Jonas Poher Rasmussen, Monica Hellström, Signe...  \n",
       "9                     Enrico Casarosa & Andrea Warren  \n",
       "10  Mike Rianda, Phil Lord, Christopher Miller & K...  \n",
       "11  Don Hall, Carlos López Estrada, Osnat Shurer &...  \n",
       "\n",
       "[110 rows x 3 columns]"
      ]
     },
     "execution_count": 12,
     "metadata": {},
     "output_type": "execute_result"
    }
   ],
   "source": [
    "df=pd.read_html(str(tables))\n",
    "df1=pd.DataFrame(df[0])\n",
    "df2=pd.DataFrame(df[1])\n",
    "df3=pd.DataFrame(df[2])\n",
    "\n",
    "new = pd.concat([df1,df2,df3])\n",
    "new\n"
   ]
  },
  {
   "cell_type": "code",
   "execution_count": 13,
   "id": "c24eea96",
   "metadata": {
    "scrolled": true
   },
   "outputs": [
    {
     "data": {
      "text/plain": [
       "89"
      ]
     },
     "execution_count": 13,
     "metadata": {},
     "output_type": "execute_result"
    }
   ],
   "source": [
    "#count not na\n",
    "new.Film.notna().sum()"
   ]
  },
  {
   "cell_type": "code",
   "execution_count": 14,
   "id": "633b8e76",
   "metadata": {},
   "outputs": [
    {
     "data": {
      "text/html": [
       "<div>\n",
       "<style scoped>\n",
       "    .dataframe tbody tr th:only-of-type {\n",
       "        vertical-align: middle;\n",
       "    }\n",
       "\n",
       "    .dataframe tbody tr th {\n",
       "        vertical-align: top;\n",
       "    }\n",
       "\n",
       "    .dataframe thead th {\n",
       "        text-align: right;\n",
       "    }\n",
       "</style>\n",
       "<table border=\"1\" class=\"dataframe\">\n",
       "  <thead>\n",
       "    <tr style=\"text-align: right;\">\n",
       "      <th></th>\n",
       "      <th>Year</th>\n",
       "      <th>Film</th>\n",
       "      <th>Nominees</th>\n",
       "    </tr>\n",
       "  </thead>\n",
       "  <tbody>\n",
       "    <tr>\n",
       "      <th>1</th>\n",
       "      <td>2001(74th)[13]</td>\n",
       "      <td>Shrek</td>\n",
       "      <td>Aron Warner</td>\n",
       "    </tr>\n",
       "    <tr>\n",
       "      <th>2</th>\n",
       "      <td>2001(74th)[13]</td>\n",
       "      <td>Jimmy Neutron: Boy Genius</td>\n",
       "      <td>Steve Oedekerk &amp; John A. Davis</td>\n",
       "    </tr>\n",
       "    <tr>\n",
       "      <th>3</th>\n",
       "      <td>2001(74th)[13]</td>\n",
       "      <td>Monsters, Inc.</td>\n",
       "      <td>Pete Docter &amp; John Lasseter</td>\n",
       "    </tr>\n",
       "    <tr>\n",
       "      <th>5</th>\n",
       "      <td>2002(75th)[21]</td>\n",
       "      <td>Spirited Away</td>\n",
       "      <td>Hayao Miyazaki</td>\n",
       "    </tr>\n",
       "    <tr>\n",
       "      <th>6</th>\n",
       "      <td>2002(75th)[21]</td>\n",
       "      <td>Ice Age</td>\n",
       "      <td>Chris Wedge</td>\n",
       "    </tr>\n",
       "    <tr>\n",
       "      <th>...</th>\n",
       "      <td>...</td>\n",
       "      <td>...</td>\n",
       "      <td>...</td>\n",
       "    </tr>\n",
       "    <tr>\n",
       "      <th>7</th>\n",
       "      <td>2021(94th)[40]</td>\n",
       "      <td>Encanto</td>\n",
       "      <td>Jared Bush, Byron Howard, Yvett Merino &amp; Clark...</td>\n",
       "    </tr>\n",
       "    <tr>\n",
       "      <th>8</th>\n",
       "      <td>2021(94th)[40]</td>\n",
       "      <td>Flee</td>\n",
       "      <td>Jonas Poher Rasmussen, Monica Hellström, Signe...</td>\n",
       "    </tr>\n",
       "    <tr>\n",
       "      <th>9</th>\n",
       "      <td>2021(94th)[40]</td>\n",
       "      <td>Luca</td>\n",
       "      <td>Enrico Casarosa &amp; Andrea Warren</td>\n",
       "    </tr>\n",
       "    <tr>\n",
       "      <th>10</th>\n",
       "      <td>2021(94th)[40]</td>\n",
       "      <td>The Mitchells vs. the Machines</td>\n",
       "      <td>Mike Rianda, Phil Lord, Christopher Miller &amp; K...</td>\n",
       "    </tr>\n",
       "    <tr>\n",
       "      <th>11</th>\n",
       "      <td>2021(94th)[40]</td>\n",
       "      <td>Raya and the Last Dragon</td>\n",
       "      <td>Don Hall, Carlos López Estrada, Osnat Shurer &amp;...</td>\n",
       "    </tr>\n",
       "  </tbody>\n",
       "</table>\n",
       "<p>89 rows × 3 columns</p>\n",
       "</div>"
      ],
      "text/plain": [
       "              Year                            Film  \\\n",
       "1   2001(74th)[13]                           Shrek   \n",
       "2   2001(74th)[13]       Jimmy Neutron: Boy Genius   \n",
       "3   2001(74th)[13]                  Monsters, Inc.   \n",
       "5   2002(75th)[21]                   Spirited Away   \n",
       "6   2002(75th)[21]                         Ice Age   \n",
       "..             ...                             ...   \n",
       "7   2021(94th)[40]                         Encanto   \n",
       "8   2021(94th)[40]                            Flee   \n",
       "9   2021(94th)[40]                            Luca   \n",
       "10  2021(94th)[40]  The Mitchells vs. the Machines   \n",
       "11  2021(94th)[40]        Raya and the Last Dragon   \n",
       "\n",
       "                                             Nominees  \n",
       "1                                         Aron Warner  \n",
       "2                      Steve Oedekerk & John A. Davis  \n",
       "3                         Pete Docter & John Lasseter  \n",
       "5                                      Hayao Miyazaki  \n",
       "6                                         Chris Wedge  \n",
       "..                                                ...  \n",
       "7   Jared Bush, Byron Howard, Yvett Merino & Clark...  \n",
       "8   Jonas Poher Rasmussen, Monica Hellström, Signe...  \n",
       "9                     Enrico Casarosa & Andrea Warren  \n",
       "10  Mike Rianda, Phil Lord, Christopher Miller & K...  \n",
       "11  Don Hall, Carlos López Estrada, Osnat Shurer &...  \n",
       "\n",
       "[89 rows x 3 columns]"
      ]
     },
     "execution_count": 14,
     "metadata": {},
     "output_type": "execute_result"
    }
   ],
   "source": [
    "copydf = new.copy()\n",
    "new2 = copydf.dropna(how='any')\n",
    "new2\n"
   ]
  },
  {
   "cell_type": "code",
   "execution_count": 15,
   "id": "86e6e423",
   "metadata": {},
   "outputs": [
    {
     "data": {
      "text/plain": [
       "1     2001(74th)[13]\n",
       "2     2001(74th)[13]\n",
       "3     2001(74th)[13]\n",
       "5     2002(75th)[21]\n",
       "6     2002(75th)[21]\n",
       "           ...      \n",
       "7     2021(94th)[40]\n",
       "8     2021(94th)[40]\n",
       "9     2021(94th)[40]\n",
       "10    2021(94th)[40]\n",
       "11    2021(94th)[40]\n",
       "Name: Year, Length: 89, dtype: object"
      ]
     },
     "execution_count": 15,
     "metadata": {},
     "output_type": "execute_result"
    }
   ],
   "source": [
    "#clean up this df (Year column)\n",
    "new2.Year.astype(str)"
   ]
  },
  {
   "cell_type": "code",
   "execution_count": 16,
   "id": "5b20cb72",
   "metadata": {},
   "outputs": [
    {
     "name": "stderr",
     "output_type": "stream",
     "text": [
      "C:\\Users\\nao22\\AppData\\Local\\Programs\\Python\\Python310\\lib\\site-packages\\pandas\\core\\generic.py:5516: SettingWithCopyWarning: \n",
      "A value is trying to be set on a copy of a slice from a DataFrame.\n",
      "Try using .loc[row_indexer,col_indexer] = value instead\n",
      "\n",
      "See the caveats in the documentation: https://pandas.pydata.org/pandas-docs/stable/user_guide/indexing.html#returning-a-view-versus-a-copy\n",
      "  self[name] = value\n"
     ]
    }
   ],
   "source": [
    "new2.Year = new2.Year.str.extract('(\\d{4})')"
   ]
  },
  {
   "cell_type": "code",
   "execution_count": 20,
   "id": "a254f049",
   "metadata": {},
   "outputs": [],
   "source": [
    "new2.to_csv('nomination.csv',index=False)  "
   ]
  },
  {
   "cell_type": "markdown",
   "id": "38d61539",
   "metadata": {},
   "source": [
    "## Create a production list"
   ]
  },
  {
   "cell_type": "code",
   "execution_count": 57,
   "id": "a59c2966",
   "metadata": {},
   "outputs": [],
   "source": [
    "from tqdm.notebook import tqdm\n",
    "import time"
   ]
  },
  {
   "cell_type": "code",
   "execution_count": 59,
   "id": "9755bdc1",
   "metadata": {},
   "outputs": [
    {
     "data": {
      "application/vnd.jupyter.widget-view+json": {
       "model_id": "c32a54cb80d54ecda882106640dfd3be",
       "version_major": 2,
       "version_minor": 0
      },
      "text/plain": [
       "  0%|          | 0/89 [00:00<?, ?it/s]"
      ]
     },
     "metadata": {},
     "output_type": "display_data"
    },
    {
     "data": {
      "text/plain": [
       "['https://www.imdb.com/title/tt0126029/',\n",
       " 'https://www.imdb.com/title/tt0320808/',\n",
       " 'https://www.imdb.com/title/tt0198781/',\n",
       " 'https://www.imdb.com/title/tt0245429/',\n",
       " 'https://www.imdb.com/title/tt13634480/',\n",
       " 'https://www.imdb.com/title/tt0275847/',\n",
       " 'https://www.imdb.com/title/tt0166813/',\n",
       " 'https://www.imdb.com/title/tt0133240/',\n",
       " 'https://www.imdb.com/title/tt0266543/',\n",
       " 'https://www.imdb.com/title/tt0328880/',\n",
       " 'https://www.imdb.com/title/tt0286244/',\n",
       " 'https://www.imdb.com/title/tt0800080/',\n",
       " 'https://www.imdb.com/title/tt0307453/',\n",
       " 'https://www.imdb.com/title/tt0298148/',\n",
       " 'https://www.imdb.com/title/tt0312004/',\n",
       " 'https://www.imdb.com/title/tt0121164/',\n",
       " 'https://www.imdb.com/title/tt0347149/',\n",
       " 'https://www.imdb.com/title/tt0366548/',\n",
       " 'https://www.imdb.com/title/tt14039582/',\n",
       " 'https://www.imdb.com/title/tt0385880/',\n",
       " 'https://www.imdb.com/title/tt0382932/',\n",
       " 'https://www.imdb.com/title/tt0808417/',\n",
       " 'https://www.imdb.com/title/tt0423294/',\n",
       " 'https://www.imdb.com/title/tt14055868/',\n",
       " 'https://www.imdb.com/title/tt0397892/',\n",
       " 'https://www.imdb.com/title/tt0441773/',\n",
       " 'https://www.imdb.com/title/tt11286314/',\n",
       " 'https://www.imdb.com/title/tt0327597/',\n",
       " 'https://www.imdb.com/title/tt0432283/',\n",
       " 'https://www.imdb.com/title/tt0780521/',\n",
       " 'https://www.imdb.com/title/tt0485601/',\n",
       " 'https://www.imdb.com/title/tt0435761/',\n",
       " 'https://www.imdb.com/title/tt0892769/',\n",
       " 'https://www.imdb.com/title/tt1553917/',\n",
       " 'https://www.imdb.com/title/tt1192628/',\n",
       " 'https://www.imdb.com/title/tt1673702/',\n",
       " 'not found',\n",
       " 'https://www.imdb.com/title/tt1302011/',\n",
       " 'https://www.imdb.com/title/tt3915174/',\n",
       " 'https://www.imdb.com/title/tt1217209/',\n",
       " 'https://www.imdb.com/title/tt1142977/',\n",
       " 'https://www.imdb.com/title/tt1623288/',\n",
       " 'https://www.imdb.com/title/tt1430626/',\n",
       " 'https://www.imdb.com/title/tt1772341/',\n",
       " 'https://www.imdb.com/title/tt2294629/',\n",
       " 'https://www.imdb.com/title/tt2850386/',\n",
       " 'https://www.imdb.com/title/tt1690953/',\n",
       " 'https://www.imdb.com/title/tt0092974/',\n",
       " 'https://www.imdb.com/title/tt2013293/',\n",
       " 'https://www.imdb.com/title/tt2245084/',\n",
       " 'https://www.imdb.com/title/tt0787474/',\n",
       " 'https://www.imdb.com/title/tt1646971/',\n",
       " 'https://www.imdb.com/title/tt1865505/',\n",
       " 'https://www.imdb.com/title/tt2576852/',\n",
       " 'https://www.imdb.com/title/tt2096673/',\n",
       " 'https://www.imdb.com/title/tt2401878/',\n",
       " 'https://www.imdb.com/title/tt3183630/',\n",
       " 'https://www.imdb.com/title/tt2872750/',\n",
       " 'https://www.imdb.com/title/tt3398268/',\n",
       " 'https://www.imdb.com/title/tt2948356/',\n",
       " 'https://www.imdb.com/title/tt4302938/',\n",
       " 'https://www.imdb.com/title/tt3521164/',\n",
       " 'https://www.imdb.com/title/tt2321405/',\n",
       " 'https://www.imdb.com/title/tt3666024/',\n",
       " 'https://www.imdb.com/title/tt2380307/',\n",
       " 'https://www.imdb.com/title/tt6932874/',\n",
       " 'https://www.imdb.com/title/tt3901826/',\n",
       " 'https://www.imdb.com/title/tt3411444/',\n",
       " 'https://www.imdb.com/title/tt3262342/',\n",
       " 'https://www.imdb.com/title/tt4633694/',\n",
       " 'https://www.imdb.com/title/tt3606756/',\n",
       " 'https://www.imdb.com/title/tt5104604/',\n",
       " 'https://www.imdb.com/title/tt2069441/',\n",
       " 'https://www.imdb.com/title/tt5848272/',\n",
       " 'https://www.imdb.com/title/tt1979376/',\n",
       " 'https://www.imdb.com/title/tt2386490/',\n",
       " 'https://www.imdb.com/title/tt9806192/',\n",
       " 'https://www.imdb.com/title/tt4729430/',\n",
       " 'https://www.imdb.com/title/tt6348138/',\n",
       " 'https://www.imdb.com/title/tt2948372/',\n",
       " 'https://www.imdb.com/title/tt7146812/',\n",
       " 'https://www.imdb.com/title/tt7488208/',\n",
       " 'https://www.imdb.com/title/tt6193408/',\n",
       " 'https://www.imdb.com/title/tt5198068/',\n",
       " 'https://www.imdb.com/title/tt2953050/',\n",
       " 'https://www.imdb.com/title/tt8430054/',\n",
       " 'https://www.imdb.com/title/tt12801262/',\n",
       " 'https://www.imdb.com/title/tt7979580/',\n",
       " 'https://www.imdb.com/title/tt5109280/']"
      ]
     },
     "execution_count": 59,
     "metadata": {},
     "output_type": "execute_result"
    }
   ],
   "source": [
    "movies = new2.Film.tolist()\n",
    "movie_urls = []\n",
    "\n",
    "for names in tqdm(movies):\n",
    "    time.sleep(0.1)\n",
    "    hrefs = \"https://www.imdb.com/search/title/?title=\" + names\n",
    "    raw_html = requests.get(hrefs).content\n",
    "    soup_doc = BeautifulSoup(raw_html, \"html.parser\")\n",
    "    headers = soup_doc.find(class_=\"lister-item-header\")\n",
    "    try:\n",
    "        link = headers.find(\"a\").get(\"href\")\n",
    "        url = \"https://www.imdb.com\" +link\n",
    "        movie_urls.append(url)\n",
    "    except Exception:\n",
    "            movie_urls.append(\"not found\")\n"
   ]
  },
  {
   "cell_type": "code",
   "execution_count": 60,
   "id": "a0256ddb",
   "metadata": {},
   "outputs": [
    {
     "name": "stderr",
     "output_type": "stream",
     "text": [
      "C:\\Users\\nao22\\AppData\\Local\\Temp/ipykernel_71780/4160658878.py:1: SettingWithCopyWarning: \n",
      "A value is trying to be set on a copy of a slice from a DataFrame.\n",
      "Try using .loc[row_indexer,col_indexer] = value instead\n",
      "\n",
      "See the caveats in the documentation: https://pandas.pydata.org/pandas-docs/stable/user_guide/indexing.html#returning-a-view-versus-a-copy\n",
      "  new2['url'] = movie_urls\n"
     ]
    }
   ],
   "source": [
    "new2['url'] = movie_urls"
   ]
  },
  {
   "cell_type": "code",
   "execution_count": 61,
   "id": "087d2836",
   "metadata": {},
   "outputs": [],
   "source": [
    "new2.to_csv('nomination.csv',index=False)  "
   ]
  },
  {
   "cell_type": "markdown",
   "id": "454c3f3a",
   "metadata": {},
   "source": [
    "## There is only one \"not found\", fix it mannually"
   ]
  },
  {
   "cell_type": "code",
   "execution_count": 65,
   "id": "9ac64b36",
   "metadata": {},
   "outputs": [
    {
     "data": {
      "text/html": [
       "<div>\n",
       "<style scoped>\n",
       "    .dataframe tbody tr th:only-of-type {\n",
       "        vertical-align: middle;\n",
       "    }\n",
       "\n",
       "    .dataframe tbody tr th {\n",
       "        vertical-align: top;\n",
       "    }\n",
       "\n",
       "    .dataframe thead th {\n",
       "        text-align: right;\n",
       "    }\n",
       "</style>\n",
       "<table border=\"1\" class=\"dataframe\">\n",
       "  <thead>\n",
       "    <tr style=\"text-align: right;\">\n",
       "      <th></th>\n",
       "      <th>Year</th>\n",
       "      <th>Film</th>\n",
       "      <th>Nominees</th>\n",
       "      <th>url</th>\n",
       "    </tr>\n",
       "  </thead>\n",
       "  <tbody>\n",
       "    <tr>\n",
       "      <th>0</th>\n",
       "      <td>2001</td>\n",
       "      <td>Shrek</td>\n",
       "      <td>Aron Warner</td>\n",
       "      <td>https://www.imdb.com/title/tt0126029/</td>\n",
       "    </tr>\n",
       "    <tr>\n",
       "      <th>1</th>\n",
       "      <td>2001</td>\n",
       "      <td>Jimmy Neutron: Boy Genius</td>\n",
       "      <td>Steve Oedekerk &amp; John A. Davis</td>\n",
       "      <td>https://www.imdb.com/title/tt0320808/</td>\n",
       "    </tr>\n",
       "    <tr>\n",
       "      <th>2</th>\n",
       "      <td>2001</td>\n",
       "      <td>Monsters, Inc.</td>\n",
       "      <td>Pete Docter &amp; John Lasseter</td>\n",
       "      <td>https://www.imdb.com/title/tt0198781/</td>\n",
       "    </tr>\n",
       "    <tr>\n",
       "      <th>3</th>\n",
       "      <td>2002</td>\n",
       "      <td>Spirited Away</td>\n",
       "      <td>Hayao Miyazaki</td>\n",
       "      <td>https://www.imdb.com/title/tt0245429/</td>\n",
       "    </tr>\n",
       "    <tr>\n",
       "      <th>4</th>\n",
       "      <td>2002</td>\n",
       "      <td>Ice Age</td>\n",
       "      <td>Chris Wedge</td>\n",
       "      <td>https://www.imdb.com/title/tt13634480/</td>\n",
       "    </tr>\n",
       "  </tbody>\n",
       "</table>\n",
       "</div>"
      ],
      "text/plain": [
       "   Year                       Film                        Nominees  \\\n",
       "0  2001                      Shrek                     Aron Warner   \n",
       "1  2001  Jimmy Neutron: Boy Genius  Steve Oedekerk & John A. Davis   \n",
       "2  2001             Monsters, Inc.     Pete Docter & John Lasseter   \n",
       "3  2002              Spirited Away                  Hayao Miyazaki   \n",
       "4  2002                    Ice Age                     Chris Wedge   \n",
       "\n",
       "                                      url  \n",
       "0   https://www.imdb.com/title/tt0126029/  \n",
       "1   https://www.imdb.com/title/tt0320808/  \n",
       "2   https://www.imdb.com/title/tt0198781/  \n",
       "3   https://www.imdb.com/title/tt0245429/  \n",
       "4  https://www.imdb.com/title/tt13634480/  "
      ]
     },
     "execution_count": 65,
     "metadata": {},
     "output_type": "execute_result"
    }
   ],
   "source": [
    "# Add https://www.imdb.com/title/tt1235830/ for \"Chico and Rita\"\n",
    "\n",
    "new3 = pd.read_csv('nomination.csv')\n",
    "new3.head()"
   ]
  },
  {
   "cell_type": "code",
   "execution_count": 86,
   "id": "b174a8e5",
   "metadata": {},
   "outputs": [
    {
     "data": {
      "application/vnd.jupyter.widget-view+json": {
       "model_id": "a5a0662c3e6144c8bb2729cbff8d8e59",
       "version_major": 2,
       "version_minor": 0
      },
      "text/plain": [
       "  0%|          | 0/89 [00:00<?, ?it/s]"
      ]
     },
     "metadata": {},
     "output_type": "display_data"
    },
    {
     "data": {
      "text/plain": [
       "['DreamWorks Animation',\n",
       " 'DNA Productions',\n",
       " 'Pixar Animation Studios',\n",
       " 'Tokuma Shoten',\n",
       " '20th Century Studios',\n",
       " 'Walt Disney Pictures',\n",
       " 'DreamWorks Animation',\n",
       " 'Walt Disney Animation Studios',\n",
       " 'Pixar Animation Studios',\n",
       " 'Walt Disney Animation Studios',\n",
       " 'Les Armateurs',\n",
       " 'Universal Pictures',\n",
       " 'DreamWorks Animation',\n",
       " 'Dreamworks Pictures',\n",
       " 'Aardman Animations',\n",
       " 'Warner Bros.',\n",
       " 'Buena Vista Home Entertainment',\n",
       " 'Warner Bros.',\n",
       " 'Bitters End',\n",
       " 'Columbia Pictures',\n",
       " 'Walt Disney Pictures',\n",
       " '2.4.7. Films',\n",
       " 'Columbia Pictures',\n",
       " 'not found',\n",
       " 'Walt Disney Animation Studios',\n",
       " 'DreamWorks Animation',\n",
       " 'Hyperobject Industries',\n",
       " 'Focus Features',\n",
       " 'Twentieth Century Fox',\n",
       " 'Walt Disney Animation Studios',\n",
       " 'Les Armateurs',\n",
       " 'Walt Disney Pictures',\n",
       " 'DreamWorks Animation',\n",
       " 'not found',\n",
       " 'Paramount Pictures',\n",
       " 'Folimage',\n",
       " 'Isle of Man Film',\n",
       " 'not found',\n",
       " 'DreamWorks Animation',\n",
       " 'Walt Disney Pictures',\n",
       " 'Walt Disney Pictures',\n",
       " 'Focus Features',\n",
       " 'Columbia Pictures',\n",
       " 'Walt Disney Animation Studios',\n",
       " 'Walt Disney Animation Studios',\n",
       " 'DreamWorks Animation',\n",
       " 'Universal Pictures',\n",
       " 'Emshell Producers',\n",
       " 'Studio Ghibli',\n",
       " 'FortyFour Studios',\n",
       " 'Focus Features',\n",
       " 'DreamWorks Animation',\n",
       " 'Backup Media',\n",
       " 'Studio Ghibli',\n",
       " 'Pixar Animation Studios',\n",
       " 'Paramount Animation',\n",
       " 'not found',\n",
       " 'StudioCanal',\n",
       " 'Dentsu',\n",
       " 'Walt Disney Pictures',\n",
       " 'Focus Features',\n",
       " 'Hurwitz Creative',\n",
       " 'Rita Productions',\n",
       " 'Prima Linea Productions',\n",
       " 'Walt Disney Pictures',\n",
       " 'not found',\n",
       " 'Aircraft Pictures',\n",
       " 'Blue Sky Studios',\n",
       " 'BreakThru Productions',\n",
       " 'Sony Pictures Entertainment (SPE)',\n",
       " 'Walt Disney Pictures',\n",
       " 'Indian Paintbrush',\n",
       " '12 Diary Holders',\n",
       " 'Walt Disney Animation Studios',\n",
       " 'Pixar Animation Studios',\n",
       " 'DreamWorks Animation',\n",
       " 'Xilam',\n",
       " 'The SPA Studios',\n",
       " 'Annapurna Pictures',\n",
       " 'Walt Disney Pictures',\n",
       " 'Walt Disney Pictures',\n",
       " 'Glen Keane Productions',\n",
       " 'Aardman Animations',\n",
       " 'Apple Original Films',\n",
       " 'Walt Disney Animation Studios',\n",
       " 'Final Cut for Real',\n",
       " 'Pixar Animation Studios',\n",
       " 'Sony Pictures Animation',\n",
       " 'Walt Disney Animation Studios']"
      ]
     },
     "execution_count": 86,
     "metadata": {},
     "output_type": "execute_result"
    }
   ],
   "source": [
    "# Find production\n",
    "url_list = new3.url.tolist()\n",
    "prd_list = []\n",
    "\n",
    "for ur in tqdm(url_list):\n",
    "    time.sleep(0.05)\n",
    "    raw_html = requests.get(ur).content\n",
    "    soup_doc = BeautifulSoup(raw_html, \"html.parser\")\n",
    "    headers = soup_doc.find(text=re.compile('Production companies')).find_next()\n",
    "    try:\n",
    "        header = headers.find(class_=\"ipc-metadata-list-item__list-content-item ipc-metadata-list-item__list-content-item--link\")\n",
    "        prd = header.text\n",
    "        prd_list.append(prd)\n",
    "    except Exception:\n",
    "           prd_list.append(\"not found\")\n",
    "    \n",
    "    "
   ]
  },
  {
   "cell_type": "code",
   "execution_count": 89,
   "id": "a16b665f",
   "metadata": {},
   "outputs": [
    {
     "data": {
      "text/plain": [
       "Walt Disney Pictures                 10\n",
       "DreamWorks Animation                  9\n",
       "Walt Disney Animation Studios         9\n",
       "Pixar Animation Studios               5\n",
       "not found                             5\n",
       "Focus Features                        4\n",
       "Columbia Pictures                     3\n",
       "Les Armateurs                         2\n",
       "Aardman Animations                    2\n",
       "Warner Bros.                          2\n",
       "Studio Ghibli                         2\n",
       "Universal Pictures                    2\n",
       "Indian Paintbrush                     1\n",
       "Rita Productions                      1\n",
       "Prima Linea Productions               1\n",
       "Aircraft Pictures                     1\n",
       "Blue Sky Studios                      1\n",
       "BreakThru Productions                 1\n",
       "Sony Pictures Entertainment (SPE)     1\n",
       "12 Diary Holders                      1\n",
       "Final Cut for Real                    1\n",
       "Apple Original Films                  1\n",
       "Xilam                                 1\n",
       "Dentsu                                1\n",
       "The SPA Studios                       1\n",
       "Annapurna Pictures                    1\n",
       "Glen Keane Productions                1\n",
       "Hurwitz Creative                      1\n",
       "Emshell Producers                     1\n",
       "StudioCanal                           1\n",
       "Hyperobject Industries                1\n",
       "Tokuma Shoten                         1\n",
       "20th Century Studios                  1\n",
       "Dreamworks Pictures                   1\n",
       "Buena Vista Home Entertainment        1\n",
       "Bitters End                           1\n",
       "2.4.7. Films                          1\n",
       "Twentieth Century Fox                 1\n",
       "Paramount Animation                   1\n",
       "Paramount Pictures                    1\n",
       "Folimage                              1\n",
       "Isle of Man Film                      1\n",
       "DNA Productions                       1\n",
       "FortyFour Studios                     1\n",
       "Backup Media                          1\n",
       "Sony Pictures Animation               1\n",
       "Name: production, dtype: int64"
      ]
     },
     "execution_count": 89,
     "metadata": {},
     "output_type": "execute_result"
    }
   ],
   "source": [
    "new3[\"production\"] = prd_list\n",
    "new3.production.value_counts()"
   ]
  },
  {
   "cell_type": "code",
   "execution_count": 88,
   "id": "9d6e882e",
   "metadata": {},
   "outputs": [],
   "source": [
    "new3.to_csv('nomination.csv',index=False)"
   ]
  },
  {
   "cell_type": "code",
   "execution_count": 91,
   "id": "d6ae2ce9",
   "metadata": {},
   "outputs": [
    {
     "data": {
      "text/html": [
       "<div>\n",
       "<style scoped>\n",
       "    .dataframe tbody tr th:only-of-type {\n",
       "        vertical-align: middle;\n",
       "    }\n",
       "\n",
       "    .dataframe tbody tr th {\n",
       "        vertical-align: top;\n",
       "    }\n",
       "\n",
       "    .dataframe thead th {\n",
       "        text-align: right;\n",
       "    }\n",
       "</style>\n",
       "<table border=\"1\" class=\"dataframe\">\n",
       "  <thead>\n",
       "    <tr style=\"text-align: right;\">\n",
       "      <th></th>\n",
       "      <th>Year</th>\n",
       "      <th>Film</th>\n",
       "      <th>Nominees</th>\n",
       "      <th>url</th>\n",
       "      <th>production</th>\n",
       "    </tr>\n",
       "  </thead>\n",
       "  <tbody>\n",
       "    <tr>\n",
       "      <th>0</th>\n",
       "      <td>2001</td>\n",
       "      <td>Shrek</td>\n",
       "      <td>Aron Warner</td>\n",
       "      <td>https://www.imdb.com/title/tt0126029/</td>\n",
       "      <td>DreamWorks Animation</td>\n",
       "    </tr>\n",
       "    <tr>\n",
       "      <th>1</th>\n",
       "      <td>2001</td>\n",
       "      <td>Jimmy Neutron: Boy Genius</td>\n",
       "      <td>Steve Oedekerk &amp; John A. Davis</td>\n",
       "      <td>https://www.imdb.com/title/tt0320808/</td>\n",
       "      <td>Nickelodeon Movies</td>\n",
       "    </tr>\n",
       "    <tr>\n",
       "      <th>2</th>\n",
       "      <td>2001</td>\n",
       "      <td>Monsters, Inc.</td>\n",
       "      <td>Pete Docter &amp; John Lasseter</td>\n",
       "      <td>https://www.imdb.com/title/tt0198781/</td>\n",
       "      <td>Pixar Animation Studios</td>\n",
       "    </tr>\n",
       "    <tr>\n",
       "      <th>3</th>\n",
       "      <td>2002</td>\n",
       "      <td>Spirited Away</td>\n",
       "      <td>Hayao Miyazaki</td>\n",
       "      <td>https://www.imdb.com/title/tt0245429/</td>\n",
       "      <td>Studio Ghibli</td>\n",
       "    </tr>\n",
       "    <tr>\n",
       "      <th>4</th>\n",
       "      <td>2002</td>\n",
       "      <td>Ice Age</td>\n",
       "      <td>Chris Wedge</td>\n",
       "      <td>https://www.imdb.com/title/tt13634480/</td>\n",
       "      <td>Twentieth Century Fox Animation</td>\n",
       "    </tr>\n",
       "    <tr>\n",
       "      <th>...</th>\n",
       "      <td>...</td>\n",
       "      <td>...</td>\n",
       "      <td>...</td>\n",
       "      <td>...</td>\n",
       "      <td>...</td>\n",
       "    </tr>\n",
       "    <tr>\n",
       "      <th>84</th>\n",
       "      <td>2021</td>\n",
       "      <td>Encanto</td>\n",
       "      <td>Jared Bush, Byron Howard, Yvett Merino &amp; Clark...</td>\n",
       "      <td>https://www.imdb.com/title/tt2953050/</td>\n",
       "      <td>Walt Disney Animation Studios</td>\n",
       "    </tr>\n",
       "    <tr>\n",
       "      <th>85</th>\n",
       "      <td>2021</td>\n",
       "      <td>Flee</td>\n",
       "      <td>Jonas Poher Rasmussen, Monica Hellström, Signe...</td>\n",
       "      <td>https://www.imdb.com/title/tt8430054/</td>\n",
       "      <td>Sun Creature Studio</td>\n",
       "    </tr>\n",
       "    <tr>\n",
       "      <th>86</th>\n",
       "      <td>2021</td>\n",
       "      <td>Luca</td>\n",
       "      <td>Enrico Casarosa &amp; Andrea Warren</td>\n",
       "      <td>https://www.imdb.com/title/tt12801262/</td>\n",
       "      <td>Pixar Animation Studios</td>\n",
       "    </tr>\n",
       "    <tr>\n",
       "      <th>87</th>\n",
       "      <td>2021</td>\n",
       "      <td>The Mitchells vs. the Machines</td>\n",
       "      <td>Mike Rianda, Phil Lord, Christopher Miller &amp; K...</td>\n",
       "      <td>https://www.imdb.com/title/tt7979580/</td>\n",
       "      <td>Sony Pictures Animation</td>\n",
       "    </tr>\n",
       "    <tr>\n",
       "      <th>88</th>\n",
       "      <td>2021</td>\n",
       "      <td>Raya and the Last Dragon</td>\n",
       "      <td>Don Hall, Carlos López Estrada, Osnat Shurer &amp;...</td>\n",
       "      <td>https://www.imdb.com/title/tt5109280/</td>\n",
       "      <td>Walt Disney Animation Studios</td>\n",
       "    </tr>\n",
       "  </tbody>\n",
       "</table>\n",
       "<p>89 rows × 5 columns</p>\n",
       "</div>"
      ],
      "text/plain": [
       "    Year                            Film  \\\n",
       "0   2001                           Shrek   \n",
       "1   2001       Jimmy Neutron: Boy Genius   \n",
       "2   2001                  Monsters, Inc.   \n",
       "3   2002                   Spirited Away   \n",
       "4   2002                         Ice Age   \n",
       "..   ...                             ...   \n",
       "84  2021                         Encanto   \n",
       "85  2021                            Flee   \n",
       "86  2021                            Luca   \n",
       "87  2021  The Mitchells vs. the Machines   \n",
       "88  2021        Raya and the Last Dragon   \n",
       "\n",
       "                                             Nominees  \\\n",
       "0                                         Aron Warner   \n",
       "1                      Steve Oedekerk & John A. Davis   \n",
       "2                         Pete Docter & John Lasseter   \n",
       "3                                      Hayao Miyazaki   \n",
       "4                                         Chris Wedge   \n",
       "..                                                ...   \n",
       "84  Jared Bush, Byron Howard, Yvett Merino & Clark...   \n",
       "85  Jonas Poher Rasmussen, Monica Hellström, Signe...   \n",
       "86                    Enrico Casarosa & Andrea Warren   \n",
       "87  Mike Rianda, Phil Lord, Christopher Miller & K...   \n",
       "88  Don Hall, Carlos López Estrada, Osnat Shurer &...   \n",
       "\n",
       "                                       url                       production  \n",
       "0    https://www.imdb.com/title/tt0126029/             DreamWorks Animation  \n",
       "1    https://www.imdb.com/title/tt0320808/               Nickelodeon Movies  \n",
       "2    https://www.imdb.com/title/tt0198781/          Pixar Animation Studios  \n",
       "3    https://www.imdb.com/title/tt0245429/                    Studio Ghibli  \n",
       "4   https://www.imdb.com/title/tt13634480/  Twentieth Century Fox Animation  \n",
       "..                                     ...                              ...  \n",
       "84   https://www.imdb.com/title/tt2953050/    Walt Disney Animation Studios  \n",
       "85   https://www.imdb.com/title/tt8430054/              Sun Creature Studio  \n",
       "86  https://www.imdb.com/title/tt12801262/          Pixar Animation Studios  \n",
       "87   https://www.imdb.com/title/tt7979580/          Sony Pictures Animation  \n",
       "88   https://www.imdb.com/title/tt5109280/    Walt Disney Animation Studios  \n",
       "\n",
       "[89 rows x 5 columns]"
      ]
     },
     "execution_count": 91,
     "metadata": {},
     "output_type": "execute_result"
    }
   ],
   "source": [
    "# manually fix some production companies\n",
    "new4 = pd.read_csv(\"nomination_new.csv\")\n",
    "new4"
   ]
  },
  {
   "cell_type": "code",
   "execution_count": 92,
   "id": "3f2b79b8",
   "metadata": {},
   "outputs": [
    {
     "data": {
      "text/plain": [
       "Pixar Animation Studios                                16\n",
       "Walt Disney Animation Studios                          13\n",
       "DreamWorks Animation                                   12\n",
       "Studio Ghibli                                           6\n",
       "Sony Pictures Animation                                 4\n",
       "Focus Features                                          4\n",
       "Twentieth Century Fox Animation                         3\n",
       "Cartoon Saloon                                          3\n",
       "Nickelodeon Movies                                      2\n",
       "Aardman Animations                                      2\n",
       "Tim Burton Productions                                  2\n",
       "Les Armateurs                                           2\n",
       "Filme de Papel                                          1\n",
       "Xilam                                                   1\n",
       "Laika Entertainment                                     1\n",
       "Studio Chizu                                            1\n",
       "Indian Paintbrush                                       1\n",
       "Netflix Animation, Pearl Studio                         1\n",
       "BreakThru Productions                                   1\n",
       "Blue Spirit                                             1\n",
       "The SPA Studios                                         1\n",
       "Magic Light Pictures                                    1\n",
       "Paramount Animation                                     1\n",
       "Folivari                                                1\n",
       "Illumination Entertainment                              1\n",
       "Folimage                                                1\n",
       "Django Films, Cin? B, France 3 Cin?ma                   1\n",
       "2.4.7. Films                                            1\n",
       "Relativity Media, ImageMovers, Amblin Entertainment     1\n",
       "Warner Bros.                                            1\n",
       "Aardman Animations, DreamWorks Animation                1\n",
       "Sun Creature Studio                                     1\n",
       "Name: production, dtype: int64"
      ]
     },
     "execution_count": 92,
     "metadata": {},
     "output_type": "execute_result"
    }
   ],
   "source": [
    "new4.production.value_counts()"
   ]
  },
  {
   "cell_type": "code",
   "execution_count": null,
   "id": "77fe9aad",
   "metadata": {},
   "outputs": [],
   "source": []
  }
 ],
 "metadata": {
  "kernelspec": {
   "display_name": "Python 3 (ipykernel)",
   "language": "python",
   "name": "python3"
  },
  "language_info": {
   "codemirror_mode": {
    "name": "ipython",
    "version": 3
   },
   "file_extension": ".py",
   "mimetype": "text/x-python",
   "name": "python",
   "nbconvert_exporter": "python",
   "pygments_lexer": "ipython3",
   "version": "3.10.0"
  }
 },
 "nbformat": 4,
 "nbformat_minor": 5
}
